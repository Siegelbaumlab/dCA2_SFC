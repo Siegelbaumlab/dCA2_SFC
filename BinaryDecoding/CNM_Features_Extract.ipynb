{
 "cells": [
  {
   "cell_type": "code",
   "execution_count": 1,
   "id": "c26be979",
   "metadata": {},
   "outputs": [],
   "source": [
    "data_file = \"Data/CNM_004.csv\"\n",
    "data_file_header_lines = 2\n",
    "data_file_fields_separator = \",\"\n",
    "# Argument: Block number starting from 0 (number)\n",
    "classes_file_template = \"Data/Day2_%d.tsv\"\n",
    "classes_files_num = 5\n",
    "classes_file_header_lines = 1\n",
    "classes_file_fields_separator = \"\\t\"\n",
    "classes_file_timestamp_shift = 5.05\n",
    "classes_output_file = \"Data/Classes.csv\""
   ]
  },
  {
   "cell_type": "code",
   "execution_count": 2,
   "id": "fe9392bd",
   "metadata": {},
   "outputs": [],
   "source": [
    "def read_file(file, header_lines, separator):\n",
    "    headers = []\n",
    "    data = {}\n",
    "    with open(file, \"r\") as f_file:\n",
    "        line_num = 0\n",
    "        for line in f_file:\n",
    "            line_num += 1\n",
    "            header = False\n",
    "            if line_num <= header_lines:\n",
    "                header = True\n",
    "            line = line.replace(separator + \" \", separator).strip(\" \\n\\r\")\n",
    "            if len(line) > 0:\n",
    "                row = line.split(separator)\n",
    "                values = []\n",
    "                values_good = True\n",
    "                if header:\n",
    "                     headers.append(row)\n",
    "                else:\n",
    "                    timestamp_str = row[0]\n",
    "                    timestamp = -1\n",
    "                    try:\n",
    "                        timestamp = float(timestamp_str)\n",
    "                    except:\n",
    "                        print(\"Error timestamp value '%s' in line #%d\" % (timestamp_str, line_num))\n",
    "                    if timestamp >= 0:\n",
    "                        payload = row[1:]\n",
    "                        data[timestamp] = payload\n",
    "    return {\"headers\": headers, \"data\": data}"
   ]
  },
  {
   "cell_type": "code",
   "execution_count": 3,
   "id": "86662845",
   "metadata": {},
   "outputs": [
    {
     "name": "stdout",
     "output_type": "stream",
     "text": [
      "Data points: 30025\n",
      "Features: 92\n",
      "Data blocks: 5\n"
     ]
    }
   ],
   "source": [
    "__data = read_file(data_file, data_file_header_lines, data_file_fields_separator)\n",
    "data = __data[\"data\"]\n",
    "headers = __data[\"headers\"][0][1:]\n",
    "print(\"Data points: %d\" % (len(data)))\n",
    "print(\"Features: %d\" % (len(headers)))\n",
    "data_block_offsets = []\n",
    "prev_timestamp = None\n",
    "cur_idx = 0\n",
    "for timestamp in data:\n",
    "    if prev_timestamp == None or timestamp - prev_timestamp > 1:\n",
    "        data_block_offsets.append(cur_idx)\n",
    "    cur_idx += 1\n",
    "    prev_timestamp = timestamp\n",
    "print(\"Data blocks: %d\" % (len(data_block_offsets)))"
   ]
  },
  {
   "cell_type": "code",
   "execution_count": 4,
   "id": "426acc0e",
   "metadata": {},
   "outputs": [
    {
     "name": "stdout",
     "output_type": "stream",
     "text": [
      "Block #0 has 6100 annotations with 2 classes: ['1', '2']\n",
      "Block #1 has 6101 annotations with 4 classes: ['3', '4', '5', '6']\n",
      "Block #2 has 6100 annotations with 4 classes: ['3', '4', '5', '6']\n",
      "Block #3 has 6100 annotations with 4 classes: ['3', '4', '5', '6']\n",
      "Block #4 has 6101 annotations with 4 classes: ['3', '4', '5', '6']\n"
     ]
    }
   ],
   "source": [
    "with open(classes_output_file, \"w\") as f_file:\n",
    "    f_file.write(\"class_id, block_#, instance_#, \" + (\", \".join(headers)) + \"\\n\")\n",
    "    for classes_file_idx in range(classes_files_num):\n",
    "        classes_file = classes_file_template % (classes_file_idx)\n",
    "        __classes = read_file(classes_file, classes_file_header_lines, classes_file_fields_separator)\n",
    "        classes = __classes[\"data\"]\n",
    "        class_ids = __classes[\"headers\"][0][1:]\n",
    "        block = classes_file_idx\n",
    "        print(\"Block #%d has %d annotations with %d classes: %s\" % (block, len(classes), len(class_ids), str(class_ids)))\n",
    "        classes_running = [False for col in range(len(class_ids))]\n",
    "        classes_instance = [-1 for col in range(len(class_ids))]\n",
    "        data_offset = data_block_offsets[block]\n",
    "        data_size = (data_block_offsets[block + 1] if block < len(data_block_offsets) - 1 else len(data)) - data_block_offsets[block]\n",
    "        classes_timestamps = list(classes.keys())\n",
    "        cur_classes_idx = 0\n",
    "        data_block_timestamps = list(data.keys())[data_offset:data_offset+data_size]\n",
    "        data_block_timestamp_shift = data_block_timestamps[0]\n",
    "        #print(\"%f, %f\" % (data_block_timestamp_shift, classes_file_timestamp_shift))\n",
    "        data_idx = 0\n",
    "        for data_timestamp in data_block_timestamps:\n",
    "            while cur_classes_idx < len(classes_timestamps) and (data_timestamp - data_block_timestamp_shift > classes_timestamps[cur_classes_idx] - classes_file_timestamp_shift or classes_timestamps[cur_classes_idx] - classes_file_timestamp_shift < 0):\n",
    "                cur_classes_idx += 1\n",
    "            if cur_classes_idx >= len(classes_timestamps):\n",
    "                break\n",
    "            #print(\"%f => %f [%d]\" % (data_timestamp - data_block_timestamp_shift, classes_timestamps[cur_classes_idx] - classes_file_timestamp_shift, cur_classes_idx))\n",
    "            for class_idx in range(len(class_ids)):\n",
    "                if classes[classes_timestamps[cur_classes_idx]][class_idx] != \"0\":\n",
    "                    if not classes_running[class_idx]:\n",
    "                        classes_instance[class_idx] += 1\n",
    "                        classes_running[class_idx] = True\n",
    "                    f_file.write((\"%s, %d, %d, \" % (class_ids[class_idx], block, classes_instance[class_idx])) + (\", \".join(data[data_timestamp])) + \"\\n\")\n",
    "                else:\n",
    "                    if classes_running[class_idx]:\n",
    "                        classes_running[class_idx] = False"
   ]
  },
  {
   "cell_type": "code",
   "execution_count": null,
   "id": "6441e06b",
   "metadata": {},
   "outputs": [],
   "source": []
  }
 ],
 "metadata": {
  "kernelspec": {
   "display_name": "Python 3 (ipykernel)",
   "language": "python",
   "name": "python3"
  },
  "language_info": {
   "codemirror_mode": {
    "name": "ipython",
    "version": 3
   },
   "file_extension": ".py",
   "mimetype": "text/x-python",
   "name": "python",
   "nbconvert_exporter": "python",
   "pygments_lexer": "ipython3",
   "version": "3.9.6"
  }
 },
 "nbformat": 4,
 "nbformat_minor": 5
}

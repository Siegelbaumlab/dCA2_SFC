{
 "cells": [
  {
   "cell_type": "code",
   "execution_count": 1,
   "id": "3a43535b",
   "metadata": {},
   "outputs": [],
   "source": [
    "import plotly.graph_objects as go\n",
    "import pandas as pd"
   ]
  },
  {
   "cell_type": "code",
   "execution_count": 2,
   "id": "1c39739a",
   "metadata": {},
   "outputs": [
    {
     "ename": "AttributeError",
     "evalue": "'DataFrame' object has no attribute 'trial_3_r'",
     "output_type": "error",
     "traceback": [
      "\u001b[0;31m---------------------------------------------------------------------------\u001b[0m",
      "\u001b[0;31mAttributeError\u001b[0m                            Traceback (most recent call last)",
      "Cell \u001b[0;32mIn[2], line 30\u001b[0m\n\u001b[1;32m     17\u001b[0m fig\u001b[38;5;241m.\u001b[39madd_trace(go\u001b[38;5;241m.\u001b[39mScatterpolar(\n\u001b[1;32m     18\u001b[0m       r \u001b[38;5;241m=\u001b[39m df\u001b[38;5;241m.\u001b[39mtrial_1_r,\n\u001b[1;32m     19\u001b[0m       theta \u001b[38;5;241m=\u001b[39m df\u001b[38;5;241m.\u001b[39mtrial_1_theta,\n\u001b[1;32m     20\u001b[0m       name \u001b[38;5;241m=\u001b[39m \u001b[38;5;124m\"\u001b[39m\u001b[38;5;124mTrial 1\u001b[39m\u001b[38;5;124m\"\u001b[39m,\n\u001b[1;32m     21\u001b[0m       marker\u001b[38;5;241m=\u001b[39m\u001b[38;5;28mdict\u001b[39m(size\u001b[38;5;241m=\u001b[39m\u001b[38;5;241m25\u001b[39m, color\u001b[38;5;241m=\u001b[39m\u001b[38;5;124m\"\u001b[39m\u001b[38;5;124m#078f4f\u001b[39m\u001b[38;5;124m\"\u001b[39m)\n\u001b[1;32m     22\u001b[0m     ))\n\u001b[1;32m     23\u001b[0m fig\u001b[38;5;241m.\u001b[39madd_trace(go\u001b[38;5;241m.\u001b[39mScatterpolar(\n\u001b[1;32m     24\u001b[0m       r \u001b[38;5;241m=\u001b[39m df\u001b[38;5;241m.\u001b[39mtrial_2_r,\n\u001b[1;32m     25\u001b[0m       theta \u001b[38;5;241m=\u001b[39m df\u001b[38;5;241m.\u001b[39mtrial_2_theta,\n\u001b[1;32m     26\u001b[0m       name \u001b[38;5;241m=\u001b[39m \u001b[38;5;124m\"\u001b[39m\u001b[38;5;124mTrial 2\u001b[39m\u001b[38;5;124m\"\u001b[39m,\n\u001b[1;32m     27\u001b[0m       marker\u001b[38;5;241m=\u001b[39m\u001b[38;5;28mdict\u001b[39m(size\u001b[38;5;241m=\u001b[39m\u001b[38;5;241m50\u001b[39m, color\u001b[38;5;241m=\u001b[39m\u001b[38;5;124m\"\u001b[39m\u001b[38;5;124m#680aab\u001b[39m\u001b[38;5;124m\"\u001b[39m),\n\u001b[1;32m     28\u001b[0m     ))\n\u001b[1;32m     29\u001b[0m fig\u001b[38;5;241m.\u001b[39madd_trace(go\u001b[38;5;241m.\u001b[39mScatterpolar(\n\u001b[0;32m---> 30\u001b[0m       r \u001b[38;5;241m=\u001b[39m df\u001b[38;5;241m.\u001b[39mtrial_3_r,\n\u001b[1;32m     31\u001b[0m       theta \u001b[38;5;241m=\u001b[39m df\u001b[38;5;241m.\u001b[39mtrial_3_theta,\n\u001b[1;32m     32\u001b[0m       name \u001b[38;5;241m=\u001b[39m \u001b[38;5;124m\"\u001b[39m\u001b[38;5;124mTrial 3\u001b[39m\u001b[38;5;124m\"\u001b[39m,\n\u001b[1;32m     33\u001b[0m       marker\u001b[38;5;241m=\u001b[39m\u001b[38;5;28mdict\u001b[39m(size\u001b[38;5;241m=\u001b[39m\u001b[38;5;241m50\u001b[39m, color\u001b[38;5;241m=\u001b[39m\u001b[38;5;124m\"\u001b[39m\u001b[38;5;124m#194016\u001b[39m\u001b[38;5;124m\"\u001b[39m),\n\u001b[1;32m     34\u001b[0m     ))\n\u001b[1;32m     36\u001b[0m \u001b[38;5;66;03m# Common parameters for all traces\u001b[39;00m\n\u001b[1;32m     37\u001b[0m fig\u001b[38;5;241m.\u001b[39mupdate_traces(mode\u001b[38;5;241m=\u001b[39m\u001b[38;5;124m\"\u001b[39m\u001b[38;5;124mmarkers\u001b[39m\u001b[38;5;124m\"\u001b[39m, marker\u001b[38;5;241m=\u001b[39m\u001b[38;5;28mdict\u001b[39m(line_color\u001b[38;5;241m=\u001b[39m\u001b[38;5;124m'\u001b[39m\u001b[38;5;124mblack\u001b[39m\u001b[38;5;124m'\u001b[39m, opacity\u001b[38;5;241m=\u001b[39m\u001b[38;5;241m0.8\u001b[39m))\n",
      "File \u001b[0;32m~/anaconda3/lib/python3.11/site-packages/pandas/core/generic.py:5902\u001b[0m, in \u001b[0;36mNDFrame.__getattr__\u001b[0;34m(self, name)\u001b[0m\n\u001b[1;32m   5895\u001b[0m \u001b[38;5;28;01mif\u001b[39;00m (\n\u001b[1;32m   5896\u001b[0m     name \u001b[38;5;129;01mnot\u001b[39;00m \u001b[38;5;129;01min\u001b[39;00m \u001b[38;5;28mself\u001b[39m\u001b[38;5;241m.\u001b[39m_internal_names_set\n\u001b[1;32m   5897\u001b[0m     \u001b[38;5;129;01mand\u001b[39;00m name \u001b[38;5;129;01mnot\u001b[39;00m \u001b[38;5;129;01min\u001b[39;00m \u001b[38;5;28mself\u001b[39m\u001b[38;5;241m.\u001b[39m_metadata\n\u001b[1;32m   5898\u001b[0m     \u001b[38;5;129;01mand\u001b[39;00m name \u001b[38;5;129;01mnot\u001b[39;00m \u001b[38;5;129;01min\u001b[39;00m \u001b[38;5;28mself\u001b[39m\u001b[38;5;241m.\u001b[39m_accessors\n\u001b[1;32m   5899\u001b[0m     \u001b[38;5;129;01mand\u001b[39;00m \u001b[38;5;28mself\u001b[39m\u001b[38;5;241m.\u001b[39m_info_axis\u001b[38;5;241m.\u001b[39m_can_hold_identifiers_and_holds_name(name)\n\u001b[1;32m   5900\u001b[0m ):\n\u001b[1;32m   5901\u001b[0m     \u001b[38;5;28;01mreturn\u001b[39;00m \u001b[38;5;28mself\u001b[39m[name]\n\u001b[0;32m-> 5902\u001b[0m \u001b[38;5;28;01mreturn\u001b[39;00m \u001b[38;5;28mobject\u001b[39m\u001b[38;5;241m.\u001b[39m\u001b[38;5;21m__getattribute__\u001b[39m(\u001b[38;5;28mself\u001b[39m, name)\n",
      "\u001b[0;31mAttributeError\u001b[0m: 'DataFrame' object has no attribute 'trial_3_r'"
     ]
    }
   ],
   "source": [
    "df = pd.read_csv(\"Fig1_2.csv\")\n",
    "\n",
    "fig = go.Figure()\n",
    "\n",
    "# Add outer circle\n",
    "theta_circle = [i * (360/100) for i in range(101)]  # 101 points for a smooth circle\n",
    "r_circle = [20] * 101  # Radius of 20 for all points\n",
    "\n",
    "fig.add_trace(go.Scatterpolar(\n",
    "    r=r_circle,\n",
    "    theta=theta_circle,\n",
    "    name=\"Outer Circle\",\n",
    "    mode=\"lines\",\n",
    "    line=dict(width=10, color=\"black\")\n",
    "))\n",
    "\n",
    "fig.add_trace(go.Scatterpolar(\n",
    "      r = df.trial_1_r,\n",
    "      theta = df.trial_1_theta,\n",
    "      name = \"Trial 1\",\n",
    "      marker=dict(size=25, color=\"#078f4f\")\n",
    "    ))\n",
    "fig.add_trace(go.Scatterpolar(\n",
    "      r = df.trial_2_r,\n",
    "      theta = df.trial_2_theta,\n",
    "      name = \"Trial 2\",\n",
    "      marker=dict(size=50, color=\"#680aab\"),\n",
    "    ))\n",
    "\n",
    "# Common parameters for all traces\n",
    "fig.update_traces(mode=\"markers\", marker=dict(line_color='black', opacity=0.8))\n",
    "fig.update_traces(mode=\"lines\", line=dict(width=7))\n",
    "\n",
    "fig.update_layout(\n",
    "    title=\"\",\n",
    "    font_size=40,\n",
    "    showlegend=False,\n",
    "    polar=dict(\n",
    "        bgcolor=\"white\",\n",
    "        angularaxis=dict(\n",
    "            rotation=90,  # Rotate 90 degrees to shift 0 degrees to the top\n",
    "            direction=\"clockwise\",  # Rotate in the clockwise direction\n",
    "            linewidth=8,\n",
    "            showline=False,\n",
    "            linecolor='black',\n",
    "            gridcolor=\"black\",\n",
    "            tickmode=\"array\",\n",
    "            tickvals=[0, 45, 90, 135, 180, 225, 270, 315],\n",
    "            ticktext=[\"0°\", \"45°\",\"90°\", \"135°\",\"180°\",\"225°\", \"270°\",\"315°\"],\n",
    "           \n",
    "        ),\n",
    "        radialaxis=dict(\n",
    "        side=\"counterclockwise\",\n",
    "        angle=-90,\n",
    "        tickangle=-90,\n",
    "        showline=False,\n",
    "        linewidth=14,\n",
    "        range=[0, 20],\n",
    "        gridcolor=\"grey\",\n",
    "        gridwidth=3,\n",
    "        tickvals=[0, 5, 10, 15, 20],  # Adjust the tick values based on your data\n",
    "        ticktext=['0', '5', '10', '15', ''],  # Use empty strings to hide the default tick labels\n",
    "        linecolor='black',\n",
    "        color = '#AD213C'\n",
    "        )\n",
    "    ),\n",
    "    paper_bgcolor = \"white\"\n",
    ")\n",
    "\n",
    "\n",
    "\n",
    "\n",
    "fig.write_image(\"Fig1_plotlyPolar_CS+.svg\", scale=2)\n",
    "fig.write_image(\"Fig1_plotlyPolar_CS+.jpg\", scale=3)\n",
    "\n",
    "fig.show()"
   ]
  },
  {
   "cell_type": "code",
   "execution_count": null,
   "id": "923c788e",
   "metadata": {},
   "outputs": [],
   "source": []
  }
 ],
 "metadata": {
  "kernelspec": {
   "display_name": "Python 3 (ipykernel)",
   "language": "python",
   "name": "python3"
  },
  "language_info": {
   "codemirror_mode": {
    "name": "ipython",
    "version": 3
   },
   "file_extension": ".py",
   "mimetype": "text/x-python",
   "name": "python",
   "nbconvert_exporter": "python",
   "pygments_lexer": "ipython3",
   "version": "3.11.4"
  }
 },
 "nbformat": 4,
 "nbformat_minor": 5
}
